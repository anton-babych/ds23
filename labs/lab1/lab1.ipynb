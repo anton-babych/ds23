{
 "cells": [
  {
   "cell_type": "markdown",
   "metadata": {},
   "source": [
    "Лабораторна роботи 1"
   ]
  },
  {
   "cell_type": "markdown",
   "metadata": {},
   "source": [
    "Виконав Бабич Антон, міт31"
   ]
  },
  {
   "cell_type": "markdown",
   "metadata": {},
   "source": [
    "1. NumPy\n",
    "створити набір даних (розмір за власним рішенням);\n",
    "провести CRUD операції над даними (скаляр, вектор, матриця);\n",
    "Використати arange, random."
   ]
  },
  {
   "cell_type": "code",
   "execution_count": 1,
   "metadata": {},
   "outputs": [
    {
     "name": "stdout",
     "output_type": "stream",
     "text": [
      "Dataset:\n",
      "[[9 4 8 5 9]\n",
      " [2 1 6 3 8]\n",
      " [7 9 2 2 7]\n",
      " [2 3 7 9 4]\n",
      " [8 6 2 7 1]\n",
      " [9 0 5 9 4]\n",
      " [3 2 0 6 5]\n",
      " [2 2 7 6 7]\n",
      " [3 5 5 5 9]\n",
      " [8 3 5 7 7]]\n",
      "Dataset after adding a new row:\n",
      "[[9 4 8 5 9]\n",
      " [2 1 6 3 8]\n",
      " [7 9 2 2 7]\n",
      " [2 3 7 9 4]\n",
      " [8 6 2 7 1]\n",
      " [9 0 5 9 4]\n",
      " [3 2 0 6 5]\n",
      " [2 2 7 6 7]\n",
      " [3 5 5 5 9]\n",
      " [8 3 5 7 7]\n",
      " [1 2 3 4 5]]\n",
      "Element at row 3 and column 2:\n",
      "7\n",
      "Dataset after updating the element at row 3 and column 2:\n",
      "[[9 4 8 5 9]\n",
      " [2 1 6 3 8]\n",
      " [7 9 2 2 7]\n",
      " [2 3 9 9 4]\n",
      " [8 6 2 7 1]\n",
      " [9 0 5 9 4]\n",
      " [3 2 0 6 5]\n",
      " [2 2 7 6 7]\n",
      " [3 5 5 5 9]\n",
      " [8 3 5 7 7]\n",
      " [1 2 3 4 5]]\n",
      "Dataset after deleting the last row:\n",
      "[[9 4 8 5 9]\n",
      " [2 1 6 3 8]\n",
      " [7 9 2 2 7]\n",
      " [2 3 9 9 4]\n",
      " [8 6 2 7 1]\n",
      " [9 0 5 9 4]\n",
      " [3 2 0 6 5]\n",
      " [2 2 7 6 7]\n",
      " [3 5 5 5 9]\n",
      " [8 3 5 7 7]]\n",
      "Array of even numbers from 0 to 20:\n",
      "[ 0  2  4  6  8 10 12 14 16 18 20]\n"
     ]
    }
   ],
   "source": [
    "# Import NumPy library\n",
    "import numpy as np\n",
    "\n",
    "# Create a dataset of size 10 x 5 with random numbers from 0 to 9\n",
    "dataset = np.random.randint(0, 10, size=(10, 5))\n",
    "print(\"Dataset:\")\n",
    "print(dataset)\n",
    "\n",
    "# Perform CRUD operations on the data\n",
    "\n",
    "# Create: add a new row to the dataset with values [1, 2, 3, 4, 5]\n",
    "dataset = np.append(dataset, [[1, 2, 3, 4, 5]], axis=0)\n",
    "print(\"Dataset after adding a new row:\")\n",
    "print(dataset)\n",
    "\n",
    "# Read: access the element at row 3 and column 2 of the dataset\n",
    "element = dataset[3, 2]\n",
    "print(\"Element at row 3 and column 2:\")\n",
    "print(element)\n",
    "\n",
    "# Update: change the element at row 3 and column 2 of the dataset to 9\n",
    "dataset[3, 2] = 9\n",
    "print(\"Dataset after updating the element at row 3 and column 2:\")\n",
    "print(dataset)\n",
    "\n",
    "# Delete: remove the last row of the dataset\n",
    "dataset = np.delete(dataset, -1, axis=0)\n",
    "print(\"Dataset after deleting the last row:\")\n",
    "print(dataset)\n",
    "\n",
    "# Use arange: create an array of even numbers from 0 to 20\n",
    "array = np.arange(0, 21, 2)\n",
    "print(\"Array of even numbers from 0 to 20:\")\n",
    "print(array)\n"
   ]
  },
  {
   "cell_type": "markdown",
   "metadata": {},
   "source": [
    "Pandas (створити dataframe різними способами, провести маніпуляції з даними (head, describe, iloc, loc ...))"
   ]
  },
  {
   "cell_type": "code",
   "execution_count": 1,
   "metadata": {},
   "outputs": [
    {
     "name": "stdout",
     "output_type": "stream",
     "text": [
      "Dataframe from a dictionary of lists:\n",
      "       name  age gender\n",
      "0    Oksana   25      F\n",
      "1    Andriy   30      M\n",
      "2  Yaroslav   35      M\n",
      "3     Anton   40      M\n",
      "4    Marina   45      F\n",
      "Dataframe from a list of dictionaries:\n",
      "      name  age gender\n",
      "0    Alice   25      F\n",
      "1      Bob   30      M\n",
      "2  Charlie   35      M\n",
      "3    David   40      M\n",
      "4      Eve   45      F\n",
      "First 3 rows of the dataframe:\n",
      "      name  age gender\n",
      "0    Alice   25      F\n",
      "1      Bob   30      M\n",
      "2  Charlie   35      M\n",
      "Summary statistics of the dataframe:\n",
      "             age\n",
      "count   5.000000\n",
      "mean   35.000000\n",
      "std     7.905694\n",
      "min    25.000000\n",
      "25%    30.000000\n",
      "50%    35.000000\n",
      "75%    40.000000\n",
      "max    45.000000\n",
      "Element at row 2 and column 1:\n",
      "35\n",
      "Rows where gender is F and age is greater than 30:\n",
      "  name  age gender\n",
      "4  Eve   45      F\n"
     ]
    }
   ],
   "source": [
    "# Import Pandas library\n",
    "import pandas as pd\n",
    "\n",
    "# Create a dataframe from a dictionary of lists\n",
    "data = {\"name\": [\"Oksana\", \"Andriy\", \"Yaroslav\", \"Anton\", \"Marina\"], \"age\": [25, 30, 35, 40, 45], \"gender\": [\"F\", \"M\", \"M\", \"M\", \"F\"]}\n",
    "df = pd.DataFrame(data)\n",
    "print(\"Dataframe from a dictionary of lists:\")\n",
    "print(df)\n",
    "\n",
    "# Create a dataframe from a list of dictionaries\n",
    "data = [{\"name\": \"Oksana\", \"age\": 25, \"gender\": \"F\"}, \n",
    "        {\"name\": \"Andriy\", \"age\": 30, \"gender\": \"M\"}, \n",
    "        {\"name\": \"Yaroslav\", \"age\": 35, \"gender\": \"M\"}, \n",
    "        {\"name\": \"Anton\", \"age\": 40, \"gender\": \"M\"}, \n",
    "        {\"name\": \"Marina\", \"age\": 45, \"gender\": \"F\"}]\n",
    "df = pd.DataFrame(data)\n",
    "print(\"Dataframe from a list of dictionaries:\")\n",
    "print(df)\n",
    "\n",
    "# Manipulate data\n",
    "\n",
    "# Use head to get the first 3 rows of the dataframe\n",
    "print(\"First 3 rows of the dataframe:\")\n",
    "print(df.head(3))\n",
    "\n",
    "# Use describe to get the summary statistics of the dataframe\n",
    "print(\"Summary statistics of the dataframe:\")\n",
    "print(df.describe())\n",
    "\n",
    "# Use iloc to access the element at row 2 and column 1 of the dataframe\n",
    "element = df.iloc[2, 1]\n",
    "print(\"Element at row 2 and column 1:\")\n",
    "print(element)\n",
    "\n",
    "# Use loc to access the rows where gender is F and age is greater than 30\n",
    "subset = df.loc[(df[\"gender\"] == \"F\") & (df[\"age\"] > 30)]\n",
    "print(\"Rows where gender is F and age is greater than 30:\")\n",
    "print(subset)\n"
   ]
  },
  {
   "cell_type": "markdown",
   "metadata": {},
   "source": [
    "Matplotlib (створити набір даних лінійної функції з урахуванням помилок вимірювань, побудувати графік функції та згенерованих даних, обчислити похибку з використанням метрик MAE, MSE). Записати отримані результати у csv файл (формат: X,Y, Y_hat, mAE, mSE)"
   ]
  },
  {
   "cell_type": "code",
   "execution_count": 2,
   "metadata": {},
   "outputs": [
    {
     "data": {
      "image/png": "[encoded data removed]",
      "text/plain": [
       "<Figure size 432x288 with 1 Axes>"
      ]
     },
     "metadata": {
      "needs_background": "light"
     },
     "output_type": "display_data"
    },
    {
     "name": "stdout",
     "output_type": "stream",
     "text": [
      "Mean Absolute Error: 0.77\n",
      "Mean Squared Error: 1.02\n"
     ]
    }
   ],
   "source": [
    "import numpy as np\n",
    "import matplotlib.pyplot as plt\n",
    "import pandas as pd\n",
    "from sklearn.metrics import mean_absolute_error, mean_squared_error\n",
    "\n",
    "# Define the linear function y = 2x + 3\n",
    "def linear_function(x):\n",
    "    return 2 * x + 3\n",
    "\n",
    "# Generate 100 random values for x in the range [0, 10]\n",
    "x = np.random.uniform(0, 10, size=100)\n",
    "\n",
    "# Generate y values using the linear function and add some random noise\n",
    "y = linear_function(x) + np.random.normal(0, 1, size=100)\n",
    "\n",
    "# Plot the function and the data points\n",
    "plt.plot(x, linear_function(x), color='red', label='y = 2x + 3')\n",
    "plt.scatter(x, y, color='blue', label='data points')\n",
    "plt.xlabel('x')\n",
    "plt.ylabel('y')\n",
    "plt.legend()\n",
    "plt.title('Linear function with measurement errors')\n",
    "plt.show()\n",
    "\n",
    "# Calculate the predicted values using the linear function\n",
    "y_hat = linear_function(x)\n",
    "\n",
    "# Calculate the error metrics\n",
    "mae = mean_absolute_error(y, y_hat)\n",
    "mse = mean_squared_error(y, y_hat)\n",
    "\n",
    "# Print the error metrics\n",
    "print(f'Mean Absolute Error: {mae:.2f}')\n",
    "print(f'Mean Squared Error: {mse:.2f}')\n",
    "\n",
    "# Create a data frame with the columns X, Y, Y_hat, MAE, MSE\n",
    "df = pd.DataFrame({'X': x, 'Y': y, 'Y_hat': y_hat})\n",
    "df['MAE'] = mae\n",
    "df['MSE'] = mse\n",
    "\n",
    "# Write the data frame to a csv file\n",
    "df.to_csv('linear_function_data.csv', index=False)\n"
   ]
  }
 ],
 "metadata": {
  "kernelspec": {
   "display_name": "Python 3",
   "language": "python",
   "name": "python3"
  },
  "language_info": {
   "codemirror_mode": {
    "name": "ipython",
    "version": 3
   },
   "file_extension": ".py",
   "mimetype": "text/x-python",
   "name": "python",
   "nbconvert_exporter": "python",
   "pygments_lexer": "ipython3",
   "version": "3.9.12"
  },
  "orig_nbformat": 4
 },
 "nbformat": 4,
 "nbformat_minor": 2
}
