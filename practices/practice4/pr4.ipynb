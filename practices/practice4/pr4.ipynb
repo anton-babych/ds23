{
 "cells": [
  {
   "cell_type": "markdown",
   "metadata": {},
   "source": [
    "1. Завдання для бінарної класифікації (Binary Classification):"
   ]
  },
  {
   "cell_type": "code",
   "execution_count": 3,
   "metadata": {},
   "outputs": [
    {
     "name": "stdout",
     "output_type": "stream",
     "text": [
      "Precision:0.77\n",
      "Recall:1.00\n",
      "F1-score:0.87\n",
      "AUC-ROC:0.89\n"
     ]
    },
    {
     "data": {
      "image/png": "[encoded data removed]",
      "text/plain": [
       "<Figure size 432x288 with 2 Axes>"
      ]
     },
     "metadata": {
      "needs_background": "light"
     },
     "output_type": "display_data"
    }
   ],
   "source": [
    "import pandas as pd\n",
    "from sklearn.model_selection import train_test_split\n",
    "from sklearn.linear_model import LogisticRegression\n",
    "from sklearn.metrics import precision_score, recall_score, f1_score, roc_auc_score, confusion_matrix\n",
    "import matplotlib.pyplot as plt\n",
    "import seaborn as sns\n",
    "\n",
    "data = pd.read_csv(\"classification_dataset.csv\")\n",
    "\n",
    "X = data[['Feature1', 'Feature2']]\n",
    "y = data['Target']\n",
    "\n",
    "X_train, X_test, y_train, y_test = train_test_split(X, y, test_size=0.2, random_state=42)\n",
    "\n",
    "model = LogisticRegression()\n",
    "model.fit(X_train, y_train)\n",
    "\n",
    "y_pred = model.predict(X_test)\n",
    "\n",
    "precision = precision_score(y_test, y_pred)\n",
    "recall = recall_score(y_test, y_pred)\n",
    "f1 = f1_score(y_test, y_pred)\n",
    "roc_auc = roc_auc_score(y_test, y_pred)\n",
    "conf_matrix = confusion_matrix(y_test, y_pred)\n",
    "\n",
    "print(F\"Precision:{precision:.2f}\")\n",
    "print(F\"Recall:{recall:.2f}\" )\n",
    "print(F\"F1-score:{f1:.2f}\")\n",
    "print(F\"AUC-ROC:{roc_auc:.2f}\")\n",
    "\n",
    "sns.heatmap(conf_matrix, annot=True, cmap='Blues')\n",
    "plt.xlabel('Predicted')\n",
    "plt.ylabel('Actual')\n",
    "plt.show()\n"
   ]
  },
  {
   "cell_type": "markdown",
   "metadata": {},
   "source": [
    "2. Завдання для мультикласової класифікації (Multiclass Classification):\n",
    "Використовуйте набір даних \"multiclass_dataset.csv\" для мультикласової класифікації.\n",
    "Розділіть дані на навчальний та тестовий набори.\n",
    "Навчіть класифікатор (наприклад, Random Forest або нейронну мережу) та оцініть його ефективність за допомогою метрик, таких як точність, відгук, F1-середнє і матриця плутанини.\n",
    "Порівняйте результати різних класифікаторів."
   ]
  },
  {
   "cell_type": "code",
   "execution_count": 7,
   "metadata": {},
   "outputs": [
    {
     "name": "stdout",
     "output_type": "stream",
     "text": [
      "Результати для Random Forest:\n",
      "              precision    recall  f1-score   support\n",
      "\n",
      "           0       0.75      0.75      0.75         8\n",
      "           1       0.73      0.80      0.76        10\n",
      "           2       0.78      0.78      0.78         9\n",
      "           3       0.83      0.77      0.80        13\n",
      "\n",
      "    accuracy                           0.78        40\n",
      "   macro avg       0.77      0.77      0.77        40\n",
      "weighted avg       0.78      0.78      0.78        40\n",
      "\n",
      "Матриця плутанини для Random Forest:\n",
      "[[ 6  1  1  0]\n",
      " [ 1  8  0  1]\n",
      " [ 1  0  7  1]\n",
      " [ 0  2  1 10]]\n",
      "\n",
      "Результати для SVM:\n",
      "              precision    recall  f1-score   support\n",
      "\n",
      "           0       0.67      0.75      0.71         8\n",
      "           1       0.88      0.70      0.78        10\n",
      "           2       0.86      0.67      0.75         9\n",
      "           3       0.75      0.92      0.83        13\n",
      "\n",
      "    accuracy                           0.78        40\n",
      "   macro avg       0.79      0.76      0.77        40\n",
      "weighted avg       0.79      0.78      0.77        40\n",
      "\n",
      "Матриця плутанини для SVM:\n",
      "[[ 6  1  1  0]\n",
      " [ 1  7  0  2]\n",
      " [ 1  0  6  2]\n",
      " [ 1  0  0 12]]\n"
     ]
    }
   ],
   "source": [
    "import pandas as pd\n",
    "from sklearn.datasets import make_classification\n",
    "from sklearn.model_selection import train_test_split\n",
    "from sklearn.ensemble import RandomForestClassifier\n",
    "from sklearn.svm import SVC\n",
    "from sklearn.metrics import classification_report, confusion_matrix\n",
    "\n",
    "data = pd.read_csv(\"multiclass_dataset.csv\")\n",
    "\n",
    "from sklearn.model_selection import train_test_split\n",
    "\n",
    "X = data[['Feature1', 'Feature2', 'Feature3', 'Feature4', 'Feature5', 'Feature6']]\n",
    "y = data[\"Target\"]\n",
    "\n",
    "X_train, X_test, y_train, y_test = train_test_split(X, y, test_size=0.2, random_state=50)\n",
    "\n",
    "rf_classifier = RandomForestClassifier()\n",
    "svm_classifier = SVC()\n",
    "\n",
    "rf_classifier.fit(X_train, y_train)\n",
    "svm_classifier.fit(X_train, y_train)\n",
    "\n",
    "y_pred_rf = rf_classifier.predict(X_test)\n",
    "classification_report_rf = classification_report(y_test, y_pred_rf)\n",
    "confusion_matrix_rf = confusion_matrix(y_test, y_pred_rf)\n",
    "\n",
    "y_pred_svm = svm_classifier.predict(X_test)\n",
    "classification_report_svm = classification_report(y_test, y_pred_svm)\n",
    "confusion_matrix_svm = confusion_matrix(y_test, y_pred_svm)\n",
    "\n",
    "print(\"Результати для Random Forest:\")\n",
    "print(classification_report_rf)\n",
    "print(\"Матриця плутанини для Random Forest:\")\n",
    "print(confusion_matrix_rf)\n",
    "\n",
    "print(\"\\nРезультати для SVM:\")\n",
    "print(classification_report_svm)\n",
    "print(\"Матриця плутанини для SVM:\")\n",
    "print(confusion_matrix_svm)\n"
   ]
  },
  {
   "cell_type": "markdown",
   "metadata": {},
   "source": [
    "Завдання для мультилейбл класифікації (Multilabel Classification):\n",
    "\n",
    "Використовуйте набір даних \"multilabel_dataset.csv\" для мультилейбл класифікації.\n",
    "Розділіть дані на навчальний та тестовий набори.\n",
    "Навчіть класифікатор для прогнозування мультилейблів (наприклад, використовуючи багатошарову нейронну мережу) та оцініть його ефективність за допомогою метрик, таких як точність, відгук і F1-середнє для кожного лейбла.\n",
    "Вивчайте, як класифікатори працюють з різними комбінаціями мультилейбів."
   ]
  },
  {
   "cell_type": "code",
   "execution_count": 8,
   "metadata": {},
   "outputs": [
    {
     "name": "stdout",
     "output_type": "stream",
     "text": [
      "Predicting labels: Label1\n",
      "Classification Report:\n",
      "               precision    recall  f1-score   support\n",
      "\n",
      "           0       0.87      0.87      0.87        31\n",
      "           1       0.56      0.56      0.56         9\n",
      "\n",
      "    accuracy                           0.80        40\n",
      "   macro avg       0.71      0.71      0.71        40\n",
      "weighted avg       0.80      0.80      0.80        40\n",
      "\n",
      "==================================================\n",
      "Predicting labels: Label2\n"
     ]
    },
    {
     "name": "stderr",
     "output_type": "stream",
     "text": [
      "c:\\anacocok\\lib\\site-packages\\sklearn\\neural_network\\_multilayer_perceptron.py:1109: DataConversionWarning: A column-vector y was passed when a 1d array was expected. Please change the shape of y to (n_samples, ), for example using ravel().\n",
      "  y = column_or_1d(y, warn=True)\n",
      "c:\\anacocok\\lib\\site-packages\\sklearn\\neural_network\\_multilayer_perceptron.py:1109: DataConversionWarning: A column-vector y was passed when a 1d array was expected. Please change the shape of y to (n_samples, ), for example using ravel().\n",
      "  y = column_or_1d(y, warn=True)\n",
      "c:\\anacocok\\lib\\site-packages\\sklearn\\neural_network\\_multilayer_perceptron.py:692: ConvergenceWarning: Stochastic Optimizer: Maximum iterations (300) reached and the optimization hasn't converged yet.\n",
      "  warnings.warn(\n",
      "c:\\anacocok\\lib\\site-packages\\sklearn\\neural_network\\_multilayer_perceptron.py:1109: DataConversionWarning: A column-vector y was passed when a 1d array was expected. Please change the shape of y to (n_samples, ), for example using ravel().\n",
      "  y = column_or_1d(y, warn=True)\n",
      "c:\\anacocok\\lib\\site-packages\\sklearn\\neural_network\\_multilayer_perceptron.py:1109: DataConversionWarning: A column-vector y was passed when a 1d array was expected. Please change the shape of y to (n_samples, ), for example using ravel().\n",
      "  y = column_or_1d(y, warn=True)\n",
      "c:\\anacocok\\lib\\site-packages\\sklearn\\neural_network\\_multilayer_perceptron.py:692: ConvergenceWarning: Stochastic Optimizer: Maximum iterations (300) reached and the optimization hasn't converged yet.\n",
      "  warnings.warn(\n"
     ]
    },
    {
     "name": "stdout",
     "output_type": "stream",
     "text": [
      "Classification Report:\n",
      "               precision    recall  f1-score   support\n",
      "\n",
      "           0       0.88      0.74      0.80        19\n",
      "           1       0.79      0.90      0.84        21\n",
      "\n",
      "    accuracy                           0.82        40\n",
      "   macro avg       0.83      0.82      0.82        40\n",
      "weighted avg       0.83      0.82      0.82        40\n",
      "\n",
      "==================================================\n",
      "Predicting labels: Label3\n",
      "Classification Report:\n",
      "               precision    recall  f1-score   support\n",
      "\n",
      "           0       0.64      0.76      0.70        21\n",
      "           1       0.67      0.53      0.59        19\n",
      "\n",
      "    accuracy                           0.65        40\n",
      "   macro avg       0.65      0.64      0.64        40\n",
      "weighted avg       0.65      0.65      0.64        40\n",
      "\n",
      "==================================================\n",
      "Predicting labels: Label4\n",
      "Classification Report:\n",
      "               precision    recall  f1-score   support\n",
      "\n",
      "           0       0.62      0.72      0.67        18\n",
      "           1       0.74      0.64      0.68        22\n",
      "\n",
      "    accuracy                           0.68        40\n",
      "   macro avg       0.68      0.68      0.67        40\n",
      "weighted avg       0.68      0.68      0.68        40\n",
      "\n",
      "==================================================\n",
      "Predicting labels: Label1, Label2\n"
     ]
    },
    {
     "name": "stderr",
     "output_type": "stream",
     "text": [
      "c:\\anacocok\\lib\\site-packages\\sklearn\\neural_network\\_multilayer_perceptron.py:692: ConvergenceWarning: Stochastic Optimizer: Maximum iterations (300) reached and the optimization hasn't converged yet.\n",
      "  warnings.warn(\n",
      "c:\\anacocok\\lib\\site-packages\\sklearn\\metrics\\_classification.py:1318: UndefinedMetricWarning: Precision and F-score are ill-defined and being set to 0.0 in samples with no predicted labels. Use `zero_division` parameter to control this behavior.\n",
      "  _warn_prf(average, modifier, msg_start, len(result))\n",
      "c:\\anacocok\\lib\\site-packages\\sklearn\\metrics\\_classification.py:1318: UndefinedMetricWarning: Recall and F-score are ill-defined and being set to 0.0 in samples with no true labels. Use `zero_division` parameter to control this behavior.\n",
      "  _warn_prf(average, modifier, msg_start, len(result))\n",
      "c:\\anacocok\\lib\\site-packages\\sklearn\\neural_network\\_multilayer_perceptron.py:692: ConvergenceWarning: Stochastic Optimizer: Maximum iterations (300) reached and the optimization hasn't converged yet.\n",
      "  warnings.warn(\n"
     ]
    },
    {
     "name": "stdout",
     "output_type": "stream",
     "text": [
      "Classification Report:\n",
      "               precision    recall  f1-score   support\n",
      "\n",
      "           0       0.60      0.67      0.63         9\n",
      "           1       0.76      0.90      0.83        21\n",
      "\n",
      "   micro avg       0.71      0.83      0.77        30\n",
      "   macro avg       0.68      0.79      0.73        30\n",
      "weighted avg       0.71      0.83      0.77        30\n",
      " samples avg       0.51      0.57      0.53        30\n",
      "\n",
      "==================================================\n",
      "Predicting labels: Label2, Label3\n",
      "Classification Report:\n",
      "               precision    recall  f1-score   support\n",
      "\n",
      "           0       0.79      0.90      0.84        21\n",
      "           1       0.71      0.79      0.75        19\n",
      "\n",
      "   micro avg       0.76      0.85      0.80        40\n",
      "   macro avg       0.75      0.85      0.80        40\n",
      "weighted avg       0.75      0.85      0.80        40\n",
      " samples avg       0.69      0.65      0.65        40\n",
      "\n",
      "==================================================\n"
     ]
    },
    {
     "name": "stderr",
     "output_type": "stream",
     "text": [
      "c:\\anacocok\\lib\\site-packages\\sklearn\\metrics\\_classification.py:1318: UndefinedMetricWarning: Precision and F-score are ill-defined and being set to 0.0 in samples with no predicted labels. Use `zero_division` parameter to control this behavior.\n",
      "  _warn_prf(average, modifier, msg_start, len(result))\n",
      "c:\\anacocok\\lib\\site-packages\\sklearn\\metrics\\_classification.py:1318: UndefinedMetricWarning: Recall and F-score are ill-defined and being set to 0.0 in samples with no true labels. Use `zero_division` parameter to control this behavior.\n",
      "  _warn_prf(average, modifier, msg_start, len(result))\n"
     ]
    }
   ],
   "source": [
    "import pandas as pd\n",
    "from sklearn.model_selection import train_test_split\n",
    "from sklearn.neural_network import MLPClassifier\n",
    "from sklearn.metrics import classification_report\n",
    "\n",
    "data = pd.read_csv(\"multilabel_dataset.csv\")\n",
    "\n",
    "features = data[['Feature1', 'Feature2', 'Feature3']]\n",
    "labels = data[['Label1', 'Label2', 'Label3', 'Label4']]\n",
    "\n",
    "label_combinations = [\n",
    "    ['Label1'],\n",
    "    ['Label2'],\n",
    "    ['Label3'],\n",
    "    ['Label4'],\n",
    "    ['Label1', 'Label2'],\n",
    "    ['Label2', 'Label3'],\n",
    "]\n",
    "\n",
    "for labels_to_predict in label_combinations:\n",
    "    print(f\"Predicting labels: {', '.join(labels_to_predict)}\")\n",
    "\n",
    "    X_train, X_test, y_train, y_test = train_test_split(features, labels[labels_to_predict], test_size=0.2, random_state=50)\n",
    "\n",
    "    classifier = MLPClassifier(random_state=1, max_iter=300)\n",
    "\n",
    "    classifier.fit(X_train, y_train)\n",
    "\n",
    "    y_pred = classifier.predict(X_test)\n",
    "    report = classification_report(y_test, y_pred)\n",
    "\n",
    "    print(\"Classification Report:\\n\", report)\n",
    "    print(\"=\" * 50)\n"
   ]
  }
 ],
 "metadata": {
  "kernelspec": {
   "display_name": "base",
   "language": "python",
   "name": "python3"
  },
  "language_info": {
   "codemirror_mode": {
    "name": "ipython",
    "version": 3
   },
   "file_extension": ".py",
   "mimetype": "text/x-python",
   "name": "python",
   "nbconvert_exporter": "python",
   "pygments_lexer": "ipython3",
   "version": "3.9.12"
  }
 },
 "nbformat": 4,
 "nbformat_minor": 2
}
