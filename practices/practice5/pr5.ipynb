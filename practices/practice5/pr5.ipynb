{
 "cells": [
  {
   "cell_type": "markdown",
   "metadata": {},
   "source": [
    "ПРАКТИЧНА РОБОТА 5\n",
    "\n",
    "виконав Бабич Антон, міт31"
   ]
  },
  {
   "cell_type": "code",
   "execution_count": 8,
   "metadata": {},
   "outputs": [
    {
     "name": "stdout",
     "output_type": "stream",
     "text": [
      "\n",
      "scalar:\n",
      "tf.Tensor(10, shape=(), dtype=int32)\n",
      "\n",
      "Variable Tensor:\n",
      "<tf.Variable 'Variable:0' shape=(2, 2) dtype=float32, numpy=\n",
      "array([[1., 2.],\n",
      "       [3., 4.]], dtype=float32)>\n",
      "\n",
      "Constant Tensor:\n",
      "tf.Tensor(\n",
      "[[1. 2.]\n",
      " [3. 4.]], shape=(2, 2), dtype=float32)\n",
      "\n",
      "Sparse Tensor:\n",
      "SparseTensor(indices=tf.Tensor(\n",
      "[[0 0]\n",
      " [1 2]], shape=(2, 2), dtype=int64), values=tf.Tensor([1 2], shape=(2,), dtype=int32), dense_shape=tf.Tensor([3 4], shape=(2,), dtype=int64))\n",
      "\n",
      "Sum of constant and variable tensor:\n",
      "tf.Tensor(\n",
      "[[2. 4.]\n",
      " [6. 8.]], shape=(2, 2), dtype=float32)\n",
      "\n",
      "Product of constant and variable tensor:\n",
      "tf.Tensor(\n",
      "[[ 1.  4.]\n",
      " [ 9. 16.]], shape=(2, 2), dtype=float32)\n"
     ]
    }
   ],
   "source": [
    "import tensorflow as tf\n",
    "\n",
    "scalar = tf.constant(10)\n",
    "print('\\nscalar:')\n",
    "print(scalar)\n",
    "\n",
    "var_tensor = tf.Variable([[1.0, 2.0], [3.0, 4.0]])\n",
    "print(\"\\nVariable Tensor:\")\n",
    "print(var_tensor)\n",
    "\n",
    "const_tensor = tf.constant([[1.0, 2.0], [3.0, 4.0]])\n",
    "print(\"\\nConstant Tensor:\")\n",
    "print(const_tensor)\n",
    "\n",
    "sparse_tensor = tf.sparse.SparseTensor(indices=[[0, 0], [1, 2]], values=[1, 2], dense_shape=[3, 4])\n",
    "print(\"\\nSparse Tensor:\")\n",
    "print(sparse_tensor)\n",
    "\n",
    "tensor_sum = tf.add(const_tensor, var_tensor)\n",
    "print(\"\\nSum of constant and variable tensor:\")\n",
    "print(tensor_sum)\n",
    "\n",
    "tensor_product = tf.multiply(const_tensor, var_tensor)\n",
    "print(\"\\nProduct of constant and variable tensor:\")\n",
    "print(tensor_product)\n",
    "\n"
   ]
  },
  {
   "cell_type": "markdown",
   "metadata": {},
   "source": [
    "2. Побудова моделі для регресії:\n",
    "\n",
    "використайте згенерований у лабораторній роботі 2 набір даних для задачі регресії, включаючи ознаки та відповідні значення цільової змінної.\n",
    "\n",
    "Створіть та скомпілюйте модель нейронної мережі для регресії з використанням TensorFlow.\n",
    "\n",
    "Виберіть функцію втрати та оптимізатор для моделі та навчіть її на підготовленому наборі даних.\n",
    "\n",
    "Оцініть результати навчання та відобразіть їх графічно.\n",
    "\n",
    "Порівняйте з результатами, отриманими у лабораторній роботі 2."
   ]
  },
  {
   "cell_type": "code",
   "execution_count": 21,
   "metadata": {},
   "outputs": [
    {
     "name": "stdout",
     "output_type": "stream",
     "text": [
      "7/7 [==============================] - 0s 2ms/step - loss: 91.8566\n",
      "Помилка на тестовому наборі даних: 91.86\n",
      "7/7 [==============================] - 0s 2ms/step\n",
      "Коефіцієнт детермінації (R-squared): 0.97817\n"
     ]
    },
    {
     "data": {
      "image/png": "[encoded data removed]",
      "text/plain": [
       "<Figure size 432x288 with 1 Axes>"
      ]
     },
     "metadata": {
      "needs_background": "light"
     },
     "output_type": "display_data"
    }
   ],
   "source": [
    "import tensorflow as tf\n",
    "import matplotlib.pyplot as plt\n",
    "from sklearn.datasets import make_regression\n",
    "from sklearn.model_selection import train_test_split\n",
    "from sklearn.metrics import r2_score\n",
    "\n",
    "X, y = make_regression(n_samples=1000, n_features=10, n_informative=5, noise=10, random_state=42)\n",
    "\n",
    "X_train, X_test, y_train, y_test = train_test_split(X, y, test_size=0.2, random_state=42)\n",
    "\n",
    "model = tf.keras.Sequential([\n",
    "    tf.keras.layers.Dense(64, activation='relu', input_shape=(10,)),\n",
    "    tf.keras.layers.Dense(32, activation='relu'),\n",
    "    tf.keras.layers.Dense(1)  \n",
    "])\n",
    "\n",
    "model.compile(optimizer='adam', loss='mean_squared_error')\n",
    "\n",
    "history = model.fit(X_train, y_train, epochs=100, batch_size=32, validation_data=(X_test, y_test), verbose=0)\n",
    "\n",
    "loss = model.evaluate(X_test, y_test)\n",
    "print(f'Помилка на тестовому наборі даних: {loss:.2f}')\n",
    "\n",
    "y_pred = model.predict(X_test)\n",
    "\n",
    "r_squared = r2_score(y_test, y_pred)\n",
    "print(f'Коефіцієнт детермінації (R-squared): {r_squared:.5f}')\n",
    "\n",
    "plt.plot(history.history['loss'], label='Помилка навчання')\n",
    "plt.plot(history.history['val_loss'], label='Помилка тестування')\n",
    "plt.xlabel('Епохи')\n",
    "plt.ylabel('Помилка')\n",
    "plt.legend()\n",
    "plt.show()\n"
   ]
  },
  {
   "cell_type": "markdown",
   "metadata": {},
   "source": [
    "Коефіцієнт детермінації моделі в лаб3 (0.98148) є більшим ніж в цій (0.97817)."
   ]
  },
  {
   "cell_type": "markdown",
   "metadata": {},
   "source": []
  },
  {
   "cell_type": "code",
   "execution_count": 5,
   "metadata": {},
   "outputs": [
    {
     "name": "stdout",
     "output_type": "stream",
     "text": [
      "7/7 [==============================] - 0s 1ms/step\n",
      "7/7 [==============================] - 0s 2ms/step\n",
      "Neural Network Metrics:\n",
      "Precision: 0.93\n",
      "Recall: 0.92\n",
      "F1-Score: 0.93\n",
      "ROC AUC: 0.98\n",
      "Confusion Matrix:\n",
      "[[91  7]\n",
      " [ 8 94]]\n",
      "7/7 [==============================] - 0s 1ms/step\n"
     ]
    },
    {
     "data": {
      "image/png": "[encoded data removed]",
      "text/plain": [
       "<Figure size 432x432 with 1 Axes>"
      ]
     },
     "metadata": {
      "needs_background": "light"
     },
     "output_type": "display_data"
    }
   ],
   "source": [
    "import numpy as np\n",
    "import pandas as pd\n",
    "from sklearn.datasets import make_classification\n",
    "from sklearn.model_selection import train_test_split\n",
    "from sklearn.metrics import precision_score, recall_score, f1_score, roc_auc_score, confusion_matrix\n",
    "import tensorflow as tf\n",
    "import matplotlib.pyplot as plt\n",
    "\n",
    "X, y = make_classification(n_samples=1000, n_features=2, n_redundant=0, n_classes=2, random_state=4)\n",
    "\n",
    "X_train, X_test, y_train, y_test = train_test_split(X, y, test_size=0.2, random_state=4)\n",
    "\n",
    "# Neural Network Model\n",
    "model = tf.keras.models.Sequential([\n",
    "    tf.keras.layers.Input(shape=(2,)),  # Input layer with 2 features\n",
    "    tf.keras.layers.Dense(64, activation='relu'),  # Hidden layer with 64 units and ReLU activation\n",
    "    tf.keras.layers.Dense(1, activation='sigmoid')  # Output layer with 1 unit and sigmoid activation for binary classification\n",
    "])\n",
    "model.compile(optimizer='adam', loss='binary_crossentropy', metrics=['accuracy'])\n",
    "history = model.fit(X_train, y_train, epochs=50, batch_size=32, validation_data=(X_test, y_test), verbose=0)\n",
    "y_pred_nn = (model.predict(X_test) > 0.5).astype(int)\n",
    "\n",
    "precision = precision_score(y_test, y_pred_nn)\n",
    "recall = recall_score(y_test, y_pred_nn)\n",
    "f1 = f1_score(y_test, y_pred_nn)\n",
    "roc_auc = roc_auc_score(y_test, model.predict(X_test))\n",
    "\n",
    "cm = confusion_matrix(y_test, y_pred_nn)\n",
    "\n",
    "print(\"Neural Network Metrics:\")\n",
    "print(f\"Precision: {precision:.2f}\")\n",
    "print(f\"Recall: {recall:.2f}\")\n",
    "print(f\"F1-Score: {f1:.2f}\")\n",
    "print(f\"ROC AUC: {roc_auc:.2f}\")\n",
    "\n",
    "print(\"Confusion Matrix:\")\n",
    "print(cm)\n",
    "\n",
    "from sklearn.metrics import roc_curve\n",
    "\n",
    "fpr, tpr, _ = roc_curve(y_test, model.predict(X_test))\n",
    "plt.figure(figsize=(6, 6))\n",
    "plt.plot(fpr, tpr, linestyle='--', color='blue', label='Neural Network')\n",
    "plt.xlabel('False Positive Rate')\n",
    "plt.ylabel('True Positive Rate')\n",
    "plt.title('ROC Curve')\n",
    "plt.legend(loc='best')\n",
    "plt.show()\n"
   ]
  },
  {
   "cell_type": "markdown",
   "metadata": {},
   "source": [
    "в 3 лаб роботі (Logistic Regression Model):\n",
    "Precision: 0.91\n",
    "Recall: 0.92\n",
    "F1-mean: 0.92\n",
    "AUC-ROC: 0.91\n",
    "\n",
    "в цій (nn regression):\n",
    "Precision: 0.93\n",
    "Recall: 0.92\n",
    "F1-Score: 0.93\n",
    "ROC AUC: 0.98"
   ]
  },
  {
   "cell_type": "markdown",
   "metadata": {},
   "source": []
  }
 ],
 "metadata": {
  "kernelspec": {
   "display_name": "base",
   "language": "python",
   "name": "python3"
  },
  "language_info": {
   "codemirror_mode": {
    "name": "ipython",
    "version": 3
   },
   "file_extension": ".py",
   "mimetype": "text/x-python",
   "name": "python",
   "nbconvert_exporter": "python",
   "pygments_lexer": "ipython3",
   "version": "3.9.12"
  }
 },
 "nbformat": 4,
 "nbformat_minor": 2
}
