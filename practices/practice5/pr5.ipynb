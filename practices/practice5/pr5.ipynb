{
 "cells": [
  {
   "cell_type": "markdown",
   "metadata": {},
   "source": [
    "ПРАКТИЧНА РОБОТА 5\n",
    "\n",
    "виконав Бабич Антон, міт31"
   ]
  },
  {
   "cell_type": "code",
   "execution_count": 6,
   "metadata": {},
   "outputs": [
    {
     "name": "stdout",
     "output_type": "stream",
     "text": [
      "scalar tf.Tensor(10, shape=(), dtype=int32)\n",
      "vector tf.Tensor(\n",
      "[[11 12]\n",
      " [21 22]], shape=(2, 2), dtype=int32)\n"
     ]
    }
   ],
   "source": [
    "import tensorflow as tf\n",
    "\n",
    "scalar = tf.constant(10)\n",
    "print('scalar:')\n",
    "print(scalar)\n",
    "\n",
    "const_tensor = tf.constant([[1.0, 2.0], [3.0, 4.0]])\n",
    "print(\"Constant Tensor:\")\n",
    "print(const_tensor)\n",
    "\n",
    "sparse_tensor = tf.sparse.SparseTensor(indices=[[0, 0], [1, 2]], values=[1, 2], dense_shape=[3, 4])\n",
    "print(\"\\nSparse Tensor:\")\n",
    "print(sparse_tensor)\n",
    "\n",
    "tensor_sum = tf.add(const_tensor, var_tensor)\n",
    "print(\"\\nSum of constant and variable tensor:\")\n",
    "print(tensor_sum)\n",
    "\n",
    "tensor_product = tf.multiply(const_tensor, var_tensor)\n",
    "print(\"\\nProduct of constant and variable tensor:\")\n",
    "print(tensor_product)\n",
    "\n"
   ]
  }
 ],
 "metadata": {
  "kernelspec": {
   "display_name": "base",
   "language": "python",
   "name": "python3"
  },
  "language_info": {
   "codemirror_mode": {
    "name": "ipython",
    "version": 3
   },
   "file_extension": ".py",
   "mimetype": "text/x-python",
   "name": "python",
   "nbconvert_exporter": "python",
   "pygments_lexer": "ipython3",
   "version": "3.9.12"
  }
 },
 "nbformat": 4,
 "nbformat_minor": 2
}
