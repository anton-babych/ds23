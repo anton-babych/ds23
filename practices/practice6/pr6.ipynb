{
 "cells": [
  {
   "cell_type": "markdown",
   "metadata": {},
   "source": [
    "генеруємо датасет"
   ]
  },
  {
   "cell_type": "code",
   "execution_count": 14,
   "metadata": {},
   "outputs": [
    {
     "data": {
      "image/png": "[encoded data removed]",
      "text/plain": [
       "<Figure size 432x288 with 1 Axes>"
      ]
     },
     "metadata": {
      "needs_background": "light"
     },
     "output_type": "display_data"
    }
   ],
   "source": [
    "import numpy as np\n",
    "import matplotlib.pyplot as plt\n",
    "import tensorflow as tf\n",
    "from tensorflow import keras\n",
    "from tensorflow.keras import layers\n",
    "from sklearn.metrics import mean_absolute_error, mean_squared_error, r2_score\n",
    "\n",
    "np.random.seed(0)\n",
    "X = np.random.rand(100, 1)\n",
    "y = 3 * X + 2 + 0.1 * np.random.randn(100, 1) \n",
    "\n",
    "plt.scatter(X, y)\n",
    "plt.xlabel('X')\n",
    "plt.ylabel('Y')\n",
    "plt.show()\n",
    "\n",
    "def checkModel(model, learningRate=0.001, epochs_size=200):\n",
    "    \n",
    "    optimizer = tf.keras.optimizers.Adam(learning_rate=learningRate)\n",
    "    model.compile(optimizer=optimizer, loss='mean_squared_error')\n",
    "\n",
    "    model.fit(X, y, epochs=epochs_size, verbose=0)  \n",
    "\n",
    "    y_pred = model.predict(X)\n",
    "\n",
    "    mae = mean_absolute_error(y, y_pred)\n",
    "    rmse = np.sqrt(mean_squared_error(y, y_pred))\n",
    "    r2 = r2_score(y, y_pred)\n",
    "\n",
    "    print(f'Final Mean Squared Error (MSE): {loss:.4f}')\n",
    "    print(f'Mean Absolute Error (MAE): {mae:.4f}')\n",
    "    print(f'Root Mean Squared Error (RMSE): {rmse:.4f}')\n",
    "    print(f'R-squared (R2): {r2:.4f}')\n",
    "    \n"
   ]
  },
  {
   "cell_type": "markdown",
   "metadata": {},
   "source": [
    "Спробуйте побудувати нейронну мережу з трьома повнозв'язними шарами (Dense layers) та навчити її на вашому власному наборі даних для регресії (200 епох). Оцініть її ефективність."
   ]
  },
  {
   "cell_type": "code",
   "execution_count": 8,
   "metadata": {},
   "outputs": [
    {
     "name": "stdout",
     "output_type": "stream",
     "text": [
      "4/4 [==============================] - 0s 2ms/step\n",
      "Final Mean Squared Error (MSE): 0.0101\n",
      "Mean Absolute Error (MAE): 0.0849\n",
      "Root Mean Squared Error (RMSE): 0.0996\n",
      "R-squared (R2): 0.9869\n"
     ]
    }
   ],
   "source": [
    "model = keras.Sequential([\n",
    "    layers.Dense(32, activation='relu', input_shape=(1,)),\n",
    "    layers.Dense(64, activation='relu'),\n",
    "    layers.Dense(1)  \n",
    "])\n",
    "\n",
    "checkModel(model)"
   ]
  },
  {
   "cell_type": "markdown",
   "metadata": {},
   "source": [
    "Побудова більшої моделі (як поводиться модель з чотирма повнозв'язними шарами?)."
   ]
  },
  {
   "cell_type": "code",
   "execution_count": 9,
   "metadata": {},
   "outputs": [
    {
     "name": "stdout",
     "output_type": "stream",
     "text": [
      "4/4 [==============================] - 0s 2ms/step\n",
      "Final Mean Squared Error (MSE): 0.0101\n",
      "Mean Absolute Error (MAE): 0.0855\n",
      "Root Mean Squared Error (RMSE): 0.1019\n",
      "R-squared (R2): 0.9862\n"
     ]
    }
   ],
   "source": [
    "model = keras.Sequential([\n",
    "    layers.Dense(32, activation='relu', input_shape=(1,)),\n",
    "    layers.Dense(64, activation='relu'),\n",
    "    layers.Dense(64, activation='relu'), \n",
    "    layers.Dense(1)  \n",
    "])\n",
    "\n",
    "checkModel(model)"
   ]
  },
  {
   "cell_type": "markdown",
   "metadata": {},
   "source": [
    "Збільшення кількості нейронів у кожному шарі."
   ]
  },
  {
   "cell_type": "code",
   "execution_count": 19,
   "metadata": {},
   "outputs": [
    {
     "name": "stdout",
     "output_type": "stream",
     "text": [
      "4/4 [==============================] - 0s 2ms/step\n",
      "Final Mean Squared Error (MSE): 0.0101\n",
      "Mean Absolute Error (MAE): 0.0859\n",
      "Root Mean Squared Error (RMSE): 0.1012\n",
      "R-squared (R2): 0.9864\n"
     ]
    }
   ],
   "source": [
    "model = keras.Sequential([\n",
    "    layers.Dense(64, activation='relu', input_shape=(1,)),  \n",
    "    layers.Dense(128, activation='relu'),  \n",
    "    layers.Dense(128, activation='relu'),  \n",
    "    layers.Dense(1) \n",
    "])\n",
    "\n",
    "checkModel(model);"
   ]
  },
  {
   "cell_type": "markdown",
   "metadata": {},
   "source": [
    "Ознайомтеся з документацією Adam та з'ясуйте, що являє собою перший параметр. Які зміни відбудуться, якщо збільшити його в 10 разів?\n",
    "\n",
    "Швидкість навчання (learning rate) - це гіперпараметр, який визначає крок, на який змінюються ваги нейронної мережі під час процесу навчання."
   ]
  },
  {
   "cell_type": "code",
   "execution_count": 13,
   "metadata": {},
   "outputs": [
    {
     "name": "stdout",
     "output_type": "stream",
     "text": [
      "4/4 [==============================] - 0s 2ms/step\n",
      "Final Mean Squared Error (MSE): 0.0101\n",
      "Mean Absolute Error (MAE): 0.0931\n",
      "Root Mean Squared Error (RMSE): 0.1123\n",
      "R-squared (R2): 0.9833\n"
     ]
    }
   ],
   "source": [
    "model = keras.Sequential([\n",
    "    layers.Dense(64, activation='relu', input_shape=(1,)),  \n",
    "    layers.Dense(128, activation='relu'),  \n",
    "    layers.Dense(128, activation='relu'),  \n",
    "    layers.Dense(1) \n",
    "])\n",
    "\n",
    "checkModel(model, learningRate=0.01)"
   ]
  },
  {
   "cell_type": "markdown",
   "metadata": {},
   "source": [
    "Які будуть результати, якщо тренування проводити довше (наприклад, 300 епох замість 200)?"
   ]
  },
  {
   "cell_type": "code",
   "execution_count": 15,
   "metadata": {},
   "outputs": [
    {
     "name": "stdout",
     "output_type": "stream",
     "text": [
      "4/4 [==============================] - 0s 2ms/step\n",
      "Final Mean Squared Error (MSE): 0.0101\n",
      "Mean Absolute Error (MAE): 0.0866\n",
      "Root Mean Squared Error (RMSE): 0.1038\n",
      "R-squared (R2): 0.9857\n"
     ]
    }
   ],
   "source": [
    "model = keras.Sequential([\n",
    "    layers.Dense(64, activation='relu', input_shape=(1,)),  \n",
    "    layers.Dense(128, activation='relu'),  \n",
    "    layers.Dense(128, activation='relu'),  \n",
    "    layers.Dense(1) \n",
    "])\n",
    "\n",
    "checkModel(model, learningRate=0.01, epochs_size=300)"
   ]
  },
  {
   "cell_type": "markdown",
   "metadata": {},
   "source": [
    "Знайдіть відповідний код та побудуйте графік зміни функції втрат на тренувальному та тестувальному наборі даних під час тренування останньої моделі."
   ]
  },
  {
   "cell_type": "code",
   "execution_count": 18,
   "metadata": {},
   "outputs": [
    {
     "data": {
      "image/png": "[encoded data removed]",
      "text/plain": [
       "<Figure size 432x288 with 1 Axes>"
      ]
     },
     "metadata": {
      "needs_background": "light"
     },
     "output_type": "display_data"
    }
   ],
   "source": [
    "train_loss_history = []\n",
    "val_loss_history = []\n",
    "\n",
    "for epoch in range(300):\n",
    "    history = model.fit(X, y, epochs=1, verbose=0)\n",
    "    train_loss_history.append(history.history['loss'][0])\n",
    "\n",
    "    val_loss = model.evaluate(X, y, verbose=0)\n",
    "    val_loss_history.append(val_loss)\n",
    "\n",
    "plt.plot(range(1, 301), train_loss_history, label='Training Loss')\n",
    "plt.plot(range(1, 301), val_loss_history, label='Validation Loss')\n",
    "plt.xlabel('Epochs')\n",
    "plt.ylabel('Loss')\n",
    "plt.legend()\n",
    "plt.show()"
   ]
  }
 ],
 "metadata": {
  "kernelspec": {
   "display_name": "base",
   "language": "python",
   "name": "python3"
  },
  "language_info": {
   "codemirror_mode": {
    "name": "ipython",
    "version": 3
   },
   "file_extension": ".py",
   "mimetype": "text/x-python",
   "name": "python",
   "nbconvert_exporter": "python",
   "pygments_lexer": "ipython3",
   "version": "3.9.12"
  }
 },
 "nbformat": 4,
 "nbformat_minor": 2
}
